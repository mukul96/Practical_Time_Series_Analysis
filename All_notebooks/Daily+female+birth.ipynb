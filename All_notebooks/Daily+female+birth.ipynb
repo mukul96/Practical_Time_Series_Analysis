{
 "cells": [
  {
   "cell_type": "markdown",
   "metadata": {},
   "source": [
    "## The following time series is taken from Time Series Data Library (TSDL)\n",
    "## TSDL  was created by Rob Hyndman\n",
    "## Professor of Statistics at Monash University, Australia.\n",
    "## ==============================================================\n",
    "\n",
    "## ====== Daily total female birth in California, 1959 =======\n",
    "\n",
    "## Data is exported as csv file to the wroking directory\n",
    "## Link: https://datamarket.com/data/list/?q=cat:fwy%20provider:tsdl"
   ]
  },
  {
   "cell_type": "code",
   "execution_count": null,
   "metadata": {
    "collapsed": false
   },
   "outputs": [],
   "source": [
    "library(astsa)\n",
    "\n",
    "# read data to R variable\n",
    "birth.data<-read.csv(\"daily-total-female-births-in-cal.csv\")\n",
    "\n",
    "# pull out number of births column\n",
    "number_of_births<-birth.data$Daily.total.female.births.in.California..1959\n",
    "\n",
    "# use date format for dates\n",
    "birth.data$Date <- as.Date(birth.data$Date, \"%m/%d/%Y\")\n",
    "\n"
   ]
  },
  {
   "cell_type": "code",
   "execution_count": null,
   "metadata": {
    "collapsed": false
   },
   "outputs": [],
   "source": [
    "plot.ts(number_of_births,main='Daily total female births in california, 1959', ylab = 'Number of births')"
   ]
  },
  {
   "cell_type": "code",
   "execution_count": null,
   "metadata": {
    "collapsed": false
   },
   "outputs": [],
   "source": [
    "# Test for correlation\n",
    "Box.test(number_of_births, lag = log(length(number_of_births)))"
   ]
  },
  {
   "cell_type": "code",
   "execution_count": null,
   "metadata": {
    "collapsed": false
   },
   "outputs": [],
   "source": [
    "# Plot the differenced data\n",
    "plot.ts(diff(number_of_births), main='Differenced series', ylab = '')"
   ]
  },
  {
   "cell_type": "code",
   "execution_count": null,
   "metadata": {
    "collapsed": false
   },
   "outputs": [],
   "source": [
    "# Test for correlation in the differenced data\n",
    "Box.test(diff(number_of_births), lag = log(length(diff(number_of_births))))"
   ]
  },
  {
   "cell_type": "code",
   "execution_count": null,
   "metadata": {
    "collapsed": false
   },
   "outputs": [],
   "source": [
    "# acf and pacf of the differenced data\n",
    "\n",
    "acf(diff(number_of_births), main='ACF of differenced data', 50)\n",
    "pacf(diff(number_of_births), main='PACF of differenced data', 50)"
   ]
  },
  {
   "cell_type": "code",
   "execution_count": null,
   "metadata": {
    "collapsed": false
   },
   "outputs": [],
   "source": [
    "# Fit various ARIMA models\n",
    "\n",
    "\n",
    "model1<-arima(number_of_births, order=c(0,1,1))\n",
    "SSE1<-sum(model1$residuals^2)\n",
    "model1.test<-Box.test(model1$residuals, lag = log(length(model1$residuals)))\n",
    "\n",
    "model2<-arima(number_of_births, order=c(0,1,2))\n",
    "SSE2<-sum(model2$residuals^2)\n",
    "model2.test<-Box.test(model2$residuals, lag = log(length(model2$residuals)))\n",
    "\n",
    "model3<-arima(number_of_births, order=c(7,1,1))\n",
    "SSE3<-sum(model3$residuals^2)\n",
    "model3.test<-Box.test(model3$residuals, lag = log(length(model3$residuals)))\n",
    "\n",
    "model4<-arima(number_of_births, order=c(7,1,2))\n",
    "SSE4<-sum(model4$residuals^2)\n",
    "model4.test<-Box.test(model4$residuals, lag = log(length(model4$residuals)))\n",
    "\n",
    "df<-data.frame(row.names=c('AIC', 'SSE', 'p-value'), c(model1$aic, SSE1, model1.test$p.value), \n",
    "               c(model2$aic, SSE2, model2.test$p.value), c(model3$aic, SSE3, model3.test$p.value),\n",
    "               c(model4$aic, SSE4, model4.test$p.value))\n",
    "colnames(df)<-c('Arima(0,1,1)','Arima(0,1,2)', 'Arima(7,1,1)', 'Arima(7,1,2)')\n",
    "\n",
    "\n",
    "\n",
    "format(df, scientific=FALSE)"
   ]
  },
  {
   "cell_type": "code",
   "execution_count": null,
   "metadata": {
    "collapsed": false
   },
   "outputs": [],
   "source": [
    "# Fit a SARIMA model\n",
    "\n",
    "sarima(number_of_births, 0,1,2,0,0,0)\n"
   ]
  },
  {
   "cell_type": "code",
   "execution_count": null,
   "metadata": {
    "collapsed": true
   },
   "outputs": [],
   "source": []
  }
 ],
 "metadata": {
  "kernelspec": {
   "display_name": "R",
   "language": "R",
   "name": "ir"
  },
  "language_info": {
   "codemirror_mode": "r",
   "file_extension": ".r",
   "mimetype": "text/x-r-source",
   "name": "R",
   "pygments_lexer": "r",
   "version": "3.3.2"
  }
 },
 "nbformat": 4,
 "nbformat_minor": 2
}
