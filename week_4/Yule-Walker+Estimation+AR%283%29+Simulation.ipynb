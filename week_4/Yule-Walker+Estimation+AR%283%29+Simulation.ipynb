{
 "cells": [
  {
   "cell_type": "markdown",
   "metadata": {},
   "source": [
    "# Estimation of model patrameters of an AR(3) simulation\n"
   ]
  },
  {
   "cell_type": "code",
   "execution_count": null,
   "metadata": {
    "collapsed": true
   },
   "outputs": [],
   "source": [
    "# x_t=phi1*x_(t-1)+phi2* x_(t-2)+\\phi_3*x_(t-3)+z_t\n",
    "# z_t~ N(0, sigma^2)"
   ]
  },
  {
   "cell_type": "code",
   "execution_count": null,
   "metadata": {
    "collapsed": false
   },
   "outputs": [],
   "source": [
    "set.seed(2017)\n",
    "sigma=4\n",
    "phi=NULL\n",
    "phi[1:3]=c(1/3,1/2,7/100)\n",
    "n=100000"
   ]
  },
  {
   "cell_type": "markdown",
   "metadata": {},
   "source": [
    "## Simulate AR(3) process\n"
   ]
  },
  {
   "cell_type": "code",
   "execution_count": null,
   "metadata": {
    "collapsed": true
   },
   "outputs": [],
   "source": [
    "ar3.process=arima.sim(n,model=list(ar=c(1/3,1/2, 7/100)), sd=4)"
   ]
  },
  {
   "cell_type": "code",
   "execution_count": null,
   "metadata": {
    "collapsed": false
   },
   "outputs": [],
   "source": [
    "r=NULL\n",
    "r[1:3]=acf(ar3.process, plot=F)$acf[2:4]\n",
    "r"
   ]
  },
  {
   "cell_type": "code",
   "execution_count": null,
   "metadata": {
    "collapsed": false
   },
   "outputs": [],
   "source": [
    "R=matrix(1,3,3) \n",
    "R[1,2]=r[1] \n",
    "R[1,3]=r[2]\n",
    "R[2,1]=r[1]\n",
    "R[2,3]=r[1]\n",
    "R[3,1]=r[2]\n",
    "R[3,2]=r[1]\n",
    "R"
   ]
  },
  {
   "cell_type": "code",
   "execution_count": null,
   "metadata": {
    "collapsed": false
   },
   "outputs": [],
   "source": [
    "# b-column vector on the right\n",
    "b=matrix(,3,1)# b- column vector with no entries\n",
    "b[1,1]=r[1]\n",
    "b[2,1]=r[2]\n",
    "b[3,1]=r[3]\n",
    "b"
   ]
  },
  {
   "cell_type": "code",
   "execution_count": null,
   "metadata": {
    "collapsed": false
   },
   "outputs": [],
   "source": [
    "# solve Rx=b and find phi's\n",
    "phi.hat=solve(R,b)\n",
    "phi.hat"
   ]
  },
  {
   "cell_type": "code",
   "execution_count": null,
   "metadata": {
    "collapsed": false
   },
   "outputs": [],
   "source": [
    "# sigme estimation\n",
    "c0=acf(ar3.process, type='covariance', plot=F)$acf[1]\n",
    "var.hat=c0*(1-sum(phi.hat*r))\n",
    "var.hat"
   ]
  },
  {
   "cell_type": "markdown",
   "metadata": {},
   "source": [
    "# Plots"
   ]
  },
  {
   "cell_type": "code",
   "execution_count": null,
   "metadata": {
    "collapsed": false
   },
   "outputs": [],
   "source": [
    "par(mfrow=c(3,1))\n",
    "plot(ar3.process, main='Simulated AR(3)')\n",
    "acf(ar3.process, main='ACF')\n",
    "pacf(ar3.process, main='PACF')"
   ]
  },
  {
   "cell_type": "code",
   "execution_count": null,
   "metadata": {
    "collapsed": true
   },
   "outputs": [],
   "source": []
  }
 ],
 "metadata": {
  "kernelspec": {
   "display_name": "R",
   "language": "R",
   "name": "ir"
  },
  "language_info": {
   "codemirror_mode": "r",
   "file_extension": ".r",
   "mimetype": "text/x-r-source",
   "name": "R",
   "pygments_lexer": "r",
   "version": "3.3.2"
  }
 },
 "nbformat": 4,
 "nbformat_minor": 0
}
