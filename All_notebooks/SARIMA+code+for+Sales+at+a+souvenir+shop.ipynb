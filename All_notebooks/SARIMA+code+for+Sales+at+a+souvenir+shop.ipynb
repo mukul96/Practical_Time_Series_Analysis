{
 "cells": [
  {
   "cell_type": "markdown",
   "metadata": {},
   "source": [
    "## The time series is downloaded from TSDL.\n",
    "## https://datamarket.com/data/set/22mh/monthly-sales-for-a-souvenir-shop-on-the-wharf-at-a-beach-resort-town-in-queensland-australia-jan-1987-dec-1993#!ds=22mh&display=line"
   ]
  },
  {
   "cell_type": "code",
   "execution_count": null,
   "metadata": {
    "collapsed": true
   },
   "outputs": [],
   "source": [
    "SUV<-read.csv('monthly-sales-for-a-souvenir-sho.csv')\n",
    "suv<-ts(SUV$Sales)"
   ]
  },
  {
   "cell_type": "code",
   "execution_count": null,
   "metadata": {
    "collapsed": false
   },
   "outputs": [],
   "source": [
    "library(astsa)\n",
    "library(forecast)\n",
    "\n",
    "\n",
    "\n",
    "par(mfrow=c(2,2))\n",
    "\n",
    "plot(suv, main='Monthly sales for a souvenir shop', ylab='', col='blue', lwd=3)\n",
    "plot(log(suv), main='Log-transorm of sales', ylab='', col='red', lwd=3)\n",
    "plot(diff(log(suv)), main='Differenced Log-transorm of sales', ylab='', col='brown', lwd=3)\n",
    "plot(diff(diff(log(suv)),12), main='Log-transorm without trend and seasonaliy', ylab='', col='green', lwd=3)"
   ]
  },
  {
   "cell_type": "code",
   "execution_count": null,
   "metadata": {
    "collapsed": false
   },
   "outputs": [],
   "source": [
    "data<-diff(diff((log(suv)),12))\n",
    "acf2(data, 50)"
   ]
  },
  {
   "cell_type": "code",
   "execution_count": null,
   "metadata": {
    "collapsed": false
   },
   "outputs": [],
   "source": [
    "d=1\n",
    "DD=1\n",
    "per=12\n",
    "for(p in 1:2){\n",
    "  for(q in 1:2){\n",
    "    for(i in 1:2){\n",
    "      for(j in 1:4){\n",
    "        if(p+d+q+i+DD+j<=10){\n",
    "          model<-arima(x=log(suv), order = c((p-1),d,(q-1)), seasonal = list(order=c((i-1),DD,(j-1)), period=per))\n",
    "          pval<-Box.test(model$residuals, lag=log(length(model$residuals)))\n",
    "          sse<-sum(model$residuals^2)\n",
    "          cat(p-1,d,q-1,i-1,DD,j-1,per, 'AIC=', model$aic, ' SSE=',sse,' p-VALUE=', pval$p.value,'\\n')\n",
    "        }\n",
    "      }\n",
    "    }\n",
    "  }\n",
    "}"
   ]
  },
  {
   "cell_type": "code",
   "execution_count": null,
   "metadata": {
    "collapsed": false
   },
   "outputs": [],
   "source": [
    "model<- arima(x=log(suv), order = c(1,1,0), seasonal = list(order=c(0,1,1), period=12))\n",
    "\n",
    "plot(forecast(model))"
   ]
  },
  {
   "cell_type": "code",
   "execution_count": null,
   "metadata": {
    "collapsed": false
   },
   "outputs": [],
   "source": [
    "forecast(model)"
   ]
  },
  {
   "cell_type": "code",
   "execution_count": null,
   "metadata": {
    "collapsed": false
   },
   "outputs": [],
   "source": [
    "a<-sarima.for(log(suv),12,1,1,0,0,1,1,12)\n",
    "\n",
    "plot.ts(c(suv,exp(a$pred)), main='Monthly sales + Forecast', ylab='', col='blue', lwd=3)"
   ]
  },
  {
   "cell_type": "code",
   "execution_count": null,
   "metadata": {
    "collapsed": true
   },
   "outputs": [],
   "source": []
  }
 ],
 "metadata": {
  "kernelspec": {
   "display_name": "R",
   "language": "R",
   "name": "ir"
  },
  "language_info": {
   "codemirror_mode": "r",
   "file_extension": ".r",
   "mimetype": "text/x-r-source",
   "name": "R",
   "pygments_lexer": "r",
   "version": "3.3.2"
  }
 },
 "nbformat": 4,
 "nbformat_minor": 2
}
