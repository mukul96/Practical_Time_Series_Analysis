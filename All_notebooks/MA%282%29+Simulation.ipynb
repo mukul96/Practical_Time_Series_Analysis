{
 "cells": [
  {
   "cell_type": "markdown",
   "metadata": {},
   "source": [
    "# Simulating MA(2) process for the next video lecture\n",
    "## Following codes are executed in R in the video lecture"
   ]
  },
  {
   "cell_type": "code",
   "execution_count": null,
   "metadata": {
    "collapsed": false
   },
   "outputs": [],
   "source": [
    "# Generate noise\n",
    "noise=rnorm(10000)\n",
    "\n",
    "# Introduce a variable\n",
    "ma_2=NULL\n",
    "\n",
    "# Loop for generating MA(2) process\n",
    "\n",
    "for(i in 3:10000){\n",
    "    ma_2[i]=noise[i]+0.7*noise[i-1]+0.2*noise[i-2]\n",
    "}\n",
    "\n",
    "# Shift data to left by 2 units\n",
    "moving_average_process=ma_2[3:10000]\n",
    "\n",
    "# Put time series structure on a vanilla data\n",
    "moving_average_process=ts(moving_average_process)\n",
    "\n",
    "# Partition output graphics as a multi frame of 2 rows and 1 column\n",
    "par(mfrow=c(2,1))\n",
    "\n",
    "# plot the process and plot its ACF\n",
    "plot(moving_average_process, main='A moving average process of order 2', ylab=' ', col='blue')\n",
    "acf(moving_average_process, main='Correlogram of a moving average process of order 2')\n"
   ]
  },
  {
   "cell_type": "code",
   "execution_count": null,
   "metadata": {
    "collapsed": true
   },
   "outputs": [],
   "source": []
  }
 ],
 "metadata": {
  "kernelspec": {
   "display_name": "R",
   "language": "R",
   "name": "ir"
  },
  "language_info": {
   "codemirror_mode": "r",
   "file_extension": ".r",
   "mimetype": "text/x-r-source",
   "name": "R",
   "pygments_lexer": "r",
   "version": "3.3.2"
  }
 },
 "nbformat": 4,
 "nbformat_minor": 2
}
