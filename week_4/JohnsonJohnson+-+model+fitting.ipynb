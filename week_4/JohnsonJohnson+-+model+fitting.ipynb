{
 "cells": [
  {
   "cell_type": "markdown",
   "metadata": {},
   "source": [
    "# Johnson & Johnson quarterly earnings per share"
   ]
  },
  {
   "cell_type": "code",
   "execution_count": null,
   "metadata": {
    "collapsed": false
   },
   "outputs": [],
   "source": [
    "# Time plot for Johnson&Johnson\n",
    "plot(JohnsonJohnson, main='Johnson&Johnosn earnings per share', col='blue', lwd=3)"
   ]
  },
  {
   "cell_type": "code",
   "execution_count": null,
   "metadata": {
    "collapsed": false
   },
   "outputs": [],
   "source": [
    "# log-return of Johnson&Johnson\n",
    "jj.log.return=diff(log(JohnsonJohnson))\n",
    "jj.log.return.mean.zero=jj.log.return-mean(jj.log.return)"
   ]
  },
  {
   "cell_type": "code",
   "execution_count": null,
   "metadata": {
    "collapsed": false
   },
   "outputs": [],
   "source": [
    "# Plots for log-returns\n",
    "par(mfrow=c(3,1))\n",
    "plot(jj.log.return.mean.zero, main='Log-return (mean zero) of Johnson&Johnosn earnings per share')\n",
    "acf(jj.log.return.mean.zero, main='ACF')\n",
    "pacf(jj.log.return.mean.zero, main='PACF')"
   ]
  },
  {
   "cell_type": "code",
   "execution_count": null,
   "metadata": {
    "collapsed": true
   },
   "outputs": [],
   "source": [
    "# Order\n",
    "p=4"
   ]
  },
  {
   "cell_type": "code",
   "execution_count": null,
   "metadata": {
    "collapsed": false
   },
   "outputs": [],
   "source": [
    "# sample autocorreleation function r\n",
    "r=NULL\n",
    "r[1:p]=acf(jj.log.return.mean.zero, plot=F)$acf[2:(p+1)]\n",
    "r"
   ]
  },
  {
   "cell_type": "code",
   "execution_count": null,
   "metadata": {
    "collapsed": false
   },
   "outputs": [],
   "source": [
    "# matrix R\n",
    "R=matrix(1,p,p) # matrix of dimension 4 by 4, with entries all 1's.\n",
    "\n",
    "# define non-diagonal entires of R\n",
    "for(i in 1:p){\n",
    "\tfor(j in 1:p){\n",
    "\t\tif(i!=j)\n",
    "\t\t\tR[i,j]=r[abs(i-j)]\n",
    "\t\t}\n",
    "\t}\n",
    "R"
   ]
  },
  {
   "cell_type": "code",
   "execution_count": null,
   "metadata": {
    "collapsed": false
   },
   "outputs": [],
   "source": [
    "# b-column vector on the right\n",
    "b=matrix(r,p,1)# b- column vector with no entries\n",
    "b"
   ]
  },
  {
   "cell_type": "code",
   "execution_count": null,
   "metadata": {
    "collapsed": false
   },
   "outputs": [],
   "source": [
    "phi.hat=solve(R,b)[,1]\n",
    "phi.hat"
   ]
  },
  {
   "cell_type": "code",
   "execution_count": null,
   "metadata": {
    "collapsed": false
   },
   "outputs": [],
   "source": [
    "# Variance estimation using Yule-Walker Estimator\n",
    "c0=acf(jj.log.return.mean.zero, type='covariance', plot=F)$acf[1]\n",
    "c0\n",
    "var.hat=c0*(1-sum(phi.hat*r))\n",
    "var.hat"
   ]
  },
  {
   "cell_type": "code",
   "execution_count": null,
   "metadata": {
    "collapsed": false
   },
   "outputs": [],
   "source": [
    "# Constant term in the model\n",
    "phi0.hat=mean(jj.log.return)*(1-sum(phi.hat))\n",
    "phi0.hat"
   ]
  },
  {
   "cell_type": "code",
   "execution_count": null,
   "metadata": {
    "collapsed": false
   },
   "outputs": [],
   "source": [
    "cat(\"Constant:\", phi0.hat,\" Coeffcinets:\", phi.hat, \" and Variance:\", var.hat, '\\n')"
   ]
  },
  {
   "cell_type": "code",
   "execution_count": null,
   "metadata": {
    "collapsed": true
   },
   "outputs": [],
   "source": []
  }
 ],
 "metadata": {
  "kernelspec": {
   "display_name": "R",
   "language": "R",
   "name": "ir"
  },
  "language_info": {
   "codemirror_mode": "r",
   "file_extension": ".r",
   "mimetype": "text/x-r-source",
   "name": "R",
   "pygments_lexer": "r",
   "version": "3.3.2"
  }
 },
 "nbformat": 4,
 "nbformat_minor": 0
}
