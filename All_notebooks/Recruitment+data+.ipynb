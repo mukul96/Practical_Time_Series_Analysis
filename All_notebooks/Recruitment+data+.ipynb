{
 "cells": [
  {
   "cell_type": "markdown",
   "metadata": {},
   "source": [
    "# Modeling recruitment time series from 'astsa' package as an AR process"
   ]
  },
  {
   "cell_type": "code",
   "execution_count": null,
   "metadata": {
    "collapsed": false
   },
   "outputs": [],
   "source": [
    "library(astsa)\n",
    "my.data=rec\n",
    "\n",
    "# Plot rec \n",
    "plot(rec, main='Recruitment time series', col='blue', lwd=3)"
   ]
  },
  {
   "cell_type": "code",
   "execution_count": null,
   "metadata": {
    "collapsed": false
   },
   "outputs": [],
   "source": [
    "# subtract mean to get a time series with mean zero\n",
    "ar.process=my.data-mean(my.data)\n",
    "\n",
    "# ACF and PACF of the process\n",
    "par(mfrow=c(2,1))\n",
    "acf(ar.process, main='Recruitment', col='red', lwd=3)\n",
    "pacf(ar.process, main='Recruitment', col='green', lwd=3)"
   ]
  },
  {
   "cell_type": "code",
   "execution_count": null,
   "metadata": {
    "collapsed": false
   },
   "outputs": [],
   "source": [
    "# order\n",
    "p=2\n",
    "\n",
    "# sample autocorreleation function r\n",
    "r=NULL\n",
    "r[1:p]=acf(ar.process, plot=F)$acf[2:(p+1)]\n",
    "cat('r=',r,'\\n')"
   ]
  },
  {
   "cell_type": "code",
   "execution_count": null,
   "metadata": {
    "collapsed": false
   },
   "outputs": [],
   "source": [
    "# matrix R\n",
    "R=matrix(1,p,p) # matrix of dimension 2 by 2, with entries all 1's.\n",
    "\n",
    "# define non-diagonal entires of R\n",
    "for(i in 1:p){\n",
    "\tfor(j in 1:p){\n",
    "\t\tif(i!=j)\n",
    "\t\t\tR[i,j]=r[abs(i-j)]\n",
    "\t\t}\n",
    "\t}\n",
    "R"
   ]
  },
  {
   "cell_type": "code",
   "execution_count": null,
   "metadata": {
    "collapsed": false
   },
   "outputs": [],
   "source": [
    "# b-column vector on the right\n",
    "b=NULL\n",
    "b=matrix(r,p,1)# b- column vector with no entries\n",
    "b"
   ]
  },
  {
   "cell_type": "code",
   "execution_count": null,
   "metadata": {
    "collapsed": false
   },
   "outputs": [],
   "source": [
    "# solve(R,b) solves Rx=b, and gives x=R^(-1)b vector\n",
    "phi.hat=NULL\n",
    "phi.hat=solve(R,b)[,1]\n",
    "phi.hat"
   ]
  },
  {
   "cell_type": "code",
   "execution_count": null,
   "metadata": {
    "collapsed": false
   },
   "outputs": [],
   "source": [
    "#variance estimation using Yule-Walker Estimator\n",
    "c0=acf(ar.process, type='covariance', plot=F)$acf[1]\n",
    "c0"
   ]
  },
  {
   "cell_type": "code",
   "execution_count": null,
   "metadata": {
    "collapsed": false
   },
   "outputs": [],
   "source": [
    "var.hat=c0*(1-sum(phi.hat*r))\n",
    "var.hat"
   ]
  },
  {
   "cell_type": "code",
   "execution_count": null,
   "metadata": {
    "collapsed": false
   },
   "outputs": [],
   "source": [
    "# constant term in the model\n",
    "phi0.hat=mean(my.data)*(1-sum(phi.hat))\n",
    "phi0.hat"
   ]
  },
  {
   "cell_type": "code",
   "execution_count": null,
   "metadata": {
    "collapsed": false
   },
   "outputs": [],
   "source": [
    "cat(\"Constant:\", phi0.hat,\" Coeffcinets:\", phi.hat, \" and Variance:\", var.hat, '\\n')"
   ]
  }
 ],
 "metadata": {
  "kernelspec": {
   "display_name": "R",
   "language": "R",
   "name": "ir"
  },
  "language_info": {
   "codemirror_mode": "r",
   "file_extension": ".r",
   "mimetype": "text/x-r-source",
   "name": "R",
   "pygments_lexer": "r",
   "version": "3.3.2"
  }
 },
 "nbformat": 4,
 "nbformat_minor": 2
}
